{
 "cells": [
  {
   "cell_type": "markdown",
   "id": "57825334-1d1c-4b23-9afe-2021b85b272c",
   "metadata": {
    "panel-layout": {
     "height": 94.875,
     "visible": true,
     "width": 100
    }
   },
   "source": [
    "# <div style=\"text-align:center;\">Working With Tensors </div>"
   ]
  },
  {
   "cell_type": "markdown",
   "id": "f527e69c-9c62-4d44-af84-fbded4a13565",
   "metadata": {
    "panel-layout": {
     "height": 85.515625,
     "visible": true,
     "width": 100
    }
   },
   "source": [
    "#### Tensors are multi-dimensional arrays that generalize the idea of scalars, vectors, and matrices. \n",
    "#### They are used to store data in various dimensions and are the building blocks for computations in machine learning and deep learning."
   ]
  },
  {
   "cell_type": "code",
   "execution_count": 4,
   "id": "5dafcc2b-239e-4aa0-9c10-7756095aed5f",
   "metadata": {},
   "outputs": [],
   "source": [
    "import torch\n",
    "import numpy as np"
   ]
  },
  {
   "cell_type": "markdown",
   "id": "45224cbe-a989-414a-9c8c-39f432a7287f",
   "metadata": {
    "editable": true,
    "panel-layout": {
     "height": 44.09375,
     "visible": true,
     "width": 100
    },
    "slideshow": {
     "slide_type": ""
    },
    "tags": []
   },
   "source": [
    "### 1. Creating a Tensor"
   ]
  },
  {
   "cell_type": "code",
   "execution_count": 21,
   "id": "0dbba9e8-5921-476a-b152-5dc9e6763817",
   "metadata": {
    "panel-layout": {
     "height": 0,
     "visible": true,
     "width": 100
    }
   },
   "outputs": [
    {
     "data": {
      "text/plain": [
       "[[1, 2], [3, 4]]"
      ]
     },
     "execution_count": 21,
     "metadata": {},
     "output_type": "execute_result"
    }
   ],
   "source": [
    "data = [[1, 2,],[3,4]]\n",
    "data"
   ]
  },
  {
   "cell_type": "code",
   "execution_count": 23,
   "id": "fdba4e4e-222b-4070-bb00-3cc13d99b043",
   "metadata": {},
   "outputs": [
    {
     "data": {
      "text/plain": [
       "tensor([[1, 2],\n",
       "        [3, 4]])"
      ]
     },
     "execution_count": 23,
     "metadata": {},
     "output_type": "execute_result"
    }
   ],
   "source": [
    "x_data = torch.tensor(data)\n",
    "x_data"
   ]
  },
  {
   "cell_type": "code",
   "execution_count": 24,
   "id": "8bdd4c5a-f293-4263-93ae-bfb8b52e189d",
   "metadata": {},
   "outputs": [
    {
     "data": {
      "text/plain": [
       "tensor(5)"
      ]
     },
     "execution_count": 24,
     "metadata": {},
     "output_type": "execute_result"
    }
   ],
   "source": [
    "a = 5\n",
    "x_a = torch.tensor(a)\n",
    "x_a"
   ]
  },
  {
   "cell_type": "code",
   "execution_count": 25,
   "id": "9182dd63-bdab-4978-89da-f1106ff23c90",
   "metadata": {},
   "outputs": [
    {
     "data": {
      "text/plain": [
       "array([[1, 2],\n",
       "       [3, 4]])"
      ]
     },
     "execution_count": 25,
     "metadata": {},
     "output_type": "execute_result"
    }
   ],
   "source": [
    "np_array = np.array(data)\n",
    "np_array"
   ]
  },
  {
   "cell_type": "code",
   "execution_count": 27,
   "id": "13a4feaa-dc8b-4d20-8cfa-c033aa22c55c",
   "metadata": {},
   "outputs": [
    {
     "data": {
      "text/plain": [
       "tensor([[1, 2],\n",
       "        [3, 4]])"
      ]
     },
     "execution_count": 27,
     "metadata": {},
     "output_type": "execute_result"
    }
   ],
   "source": [
    "x_np = torch.from_numpy(np_array)\n",
    "x_np"
   ]
  },
  {
   "cell_type": "code",
   "execution_count": 29,
   "id": "8f6e2bb0-a787-45f5-9d42-85dfc252c0e9",
   "metadata": {},
   "outputs": [
    {
     "data": {
      "text/plain": [
       "tensor([[1, 1],\n",
       "        [1, 1]])"
      ]
     },
     "execution_count": 29,
     "metadata": {},
     "output_type": "execute_result"
    }
   ],
   "source": [
    "x_ones = torch.ones_like(x_np)\n",
    "x_ones"
   ]
  },
  {
   "cell_type": "code",
   "execution_count": 31,
   "id": "61d2b913-5496-4d69-868f-0083149ca891",
   "metadata": {},
   "outputs": [
    {
     "name": "stdout",
     "output_type": "stream",
     "text": [
      "Tensor of random numbers \n",
      " tensor([[0.2690, 0.2422],\n",
      "        [0.6409, 0.7407]])\n"
     ]
    }
   ],
   "source": [
    "x_rand = torch.rand_like(x_np, dtype=torch.float)\n",
    "print(f\"Tensor of random numbers \\n {x_rand}\")"
   ]
  },
  {
   "cell_type": "code",
   "execution_count": 32,
   "id": "5c4454e4-9153-4d0a-b2d0-8faec4026975",
   "metadata": {},
   "outputs": [],
   "source": [
    "shape = (2,3,)\n",
    "rand_tensor = torch.rand(shape)\n",
    "zeroes_tensor = torch.zeros(shape)\n",
    "ones_tensor = torch.ones(shape)"
   ]
  },
  {
   "cell_type": "code",
   "execution_count": 34,
   "id": "03759808-8031-4ca3-b372-669b69e46f5e",
   "metadata": {},
   "outputs": [
    {
     "name": "stdout",
     "output_type": "stream",
     "text": [
      "Ones tensor: \n",
      " tensor([[1., 1., 1.],\n",
      "        [1., 1., 1.]])\n"
     ]
    }
   ],
   "source": [
    "print(f\"Ones tensor: \\n {ones_tensor}\")"
   ]
  },
  {
   "cell_type": "markdown",
   "id": "36a3b638-97f9-40fd-a196-25748dabffa4",
   "metadata": {
    "panel-layout": {
     "height": 44.09375,
     "visible": true,
     "width": 100
    }
   },
   "source": [
    "### 2. Properties of a Tensor"
   ]
  },
  {
   "cell_type": "code",
   "execution_count": 37,
   "id": "79689b3d-6117-41ef-9ef1-e3f1b328a10d",
   "metadata": {
    "panel-layout": {
     "height": 0,
     "visible": true,
     "width": 100
    }
   },
   "outputs": [
    {
     "name": "stdout",
     "output_type": "stream",
     "text": [
      "Shape is torch.Size([3, 4])\n",
      "Data type of tensor torch.float32\n"
     ]
    }
   ],
   "source": [
    "# Shape, Data Type, Device\n",
    "tensor = torch.rand(3,4)\n",
    "print(f\"Shape is {tensor.shape}\")\n",
    "print(f\"Data type of tensor {tensor.dtype}\")"
   ]
  },
  {
   "cell_type": "code",
   "execution_count": 38,
   "id": "0f0186c3-6a31-4e86-ba22-7e15447da1f3",
   "metadata": {},
   "outputs": [
    {
     "name": "stdout",
     "output_type": "stream",
     "text": [
      "Device tensor is stored: cpu\n"
     ]
    }
   ],
   "source": [
    "print(f\"Device tensor is stored: {tensor.device}\")"
   ]
  },
  {
   "cell_type": "markdown",
   "id": "0be47f18-1659-4187-9393-96edf1fd3ace",
   "metadata": {
    "editable": true,
    "panel-layout": {
     "height": 44.09375,
     "visible": true,
     "width": 100
    },
    "slideshow": {
     "slide_type": ""
    },
    "tags": []
   },
   "source": [
    "### 3. Indexing and Slicing"
   ]
  },
  {
   "cell_type": "code",
   "execution_count": 39,
   "id": "414be9a0-8876-4894-911b-40c3dce3e376",
   "metadata": {},
   "outputs": [],
   "source": [
    "tensor = torch.ones(4,4)"
   ]
  },
  {
   "cell_type": "code",
   "execution_count": 40,
   "id": "d1bbb670-d48f-42d8-b32c-d519cf39e3af",
   "metadata": {},
   "outputs": [
    {
     "data": {
      "text/plain": [
       "tensor([[1., 1., 1., 1.],\n",
       "        [1., 1., 1., 1.],\n",
       "        [1., 1., 1., 1.],\n",
       "        [1., 1., 1., 1.]])"
      ]
     },
     "execution_count": 40,
     "metadata": {},
     "output_type": "execute_result"
    }
   ],
   "source": [
    "tensor"
   ]
  },
  {
   "cell_type": "code",
   "execution_count": 41,
   "id": "d1a68648-b634-4a9f-b085-a42b7d2734f3",
   "metadata": {},
   "outputs": [
    {
     "name": "stdout",
     "output_type": "stream",
     "text": [
      "First row: tensor([1., 1., 1., 1.])\n"
     ]
    }
   ],
   "source": [
    "print(f\"First row: {tensor[0]}\")"
   ]
  },
  {
   "cell_type": "code",
   "execution_count": 42,
   "id": "c2cbe77f-3160-45f4-8c14-a1542e529b05",
   "metadata": {},
   "outputs": [
    {
     "name": "stdout",
     "output_type": "stream",
     "text": [
      "First column: tensor([1., 1., 1., 1.])\n"
     ]
    }
   ],
   "source": [
    "print(f\"First column: {tensor[:,0]}\")"
   ]
  },
  {
   "cell_type": "code",
   "execution_count": 43,
   "id": "948459d6-317c-45b3-8e8f-357384304e34",
   "metadata": {},
   "outputs": [
    {
     "name": "stdout",
     "output_type": "stream",
     "text": [
      "Last column: tensor([1., 1., 1., 1.])\n"
     ]
    }
   ],
   "source": [
    "print(f\"Last column: {tensor[..., -1]}\")"
   ]
  },
  {
   "cell_type": "markdown",
   "id": "2a142d95-9f94-474d-afc5-03094a67b591",
   "metadata": {
    "panel-layout": {
     "height": 44.09375,
     "visible": true,
     "width": 100
    }
   },
   "source": [
    "### 4. Combining Tensors"
   ]
  },
  {
   "cell_type": "code",
   "execution_count": 47,
   "id": "44b2097b-be71-46ce-ab05-6e8b8a0ece39",
   "metadata": {},
   "outputs": [
    {
     "data": {
      "text/plain": [
       "tensor([[1., 1., 1., 1., 1., 1., 1., 1., 1., 1., 1., 1.],\n",
       "        [1., 1., 1., 1., 1., 1., 1., 1., 1., 1., 1., 1.],\n",
       "        [1., 1., 1., 1., 1., 1., 1., 1., 1., 1., 1., 1.],\n",
       "        [1., 1., 1., 1., 1., 1., 1., 1., 1., 1., 1., 1.]])"
      ]
     },
     "execution_count": 47,
     "metadata": {},
     "output_type": "execute_result"
    }
   ],
   "source": [
    "x_joined = torch.cat([tensor, tensor, tensor], dim=1)\n",
    "x_joined"
   ]
  },
  {
   "cell_type": "markdown",
   "id": "696e28b1-3c0d-4ec7-894e-4ac56cc1dab6",
   "metadata": {
    "panel-layout": {
     "height": 44.09375,
     "visible": true,
     "width": 100
    }
   },
   "source": [
    "### 5. Arithmetic Operations on Tensors"
   ]
  },
  {
   "cell_type": "code",
   "execution_count": 53,
   "id": "06de76d1-2393-46a3-8c25-fbb5aa38aa66",
   "metadata": {},
   "outputs": [
    {
     "data": {
      "text/plain": [
       "tensor([[4., 4., 4., 4.],\n",
       "        [4., 4., 4., 4.],\n",
       "        [4., 4., 4., 4.],\n",
       "        [4., 4., 4., 4.]])"
      ]
     },
     "execution_count": 53,
     "metadata": {},
     "output_type": "execute_result"
    }
   ],
   "source": [
    "tensor_t  = tensor.T\n",
    "y2 = tensor @ tensor_t\n",
    "y2"
   ]
  },
  {
   "cell_type": "code",
   "execution_count": 52,
   "id": "55b00ba6-9ddb-42a1-bdc8-4d27d0ac6499",
   "metadata": {},
   "outputs": [
    {
     "data": {
      "text/plain": [
       "tensor([[4., 4., 4., 4.],\n",
       "        [4., 4., 4., 4.],\n",
       "        [4., 4., 4., 4.],\n",
       "        [4., 4., 4., 4.]])"
      ]
     },
     "execution_count": 52,
     "metadata": {},
     "output_type": "execute_result"
    }
   ],
   "source": [
    "y3 = tensor.matmul(tensor_t)\n",
    "y3"
   ]
  },
  {
   "cell_type": "code",
   "execution_count": 55,
   "id": "0192350a-44bc-4453-8a6d-e3a72c33ae16",
   "metadata": {},
   "outputs": [
    {
     "data": {
      "text/plain": [
       "tensor([[1., 1., 1., 1.],\n",
       "        [1., 1., 1., 1.],\n",
       "        [1., 1., 1., 1.],\n",
       "        [1., 1., 1., 1.]])"
      ]
     },
     "execution_count": 55,
     "metadata": {},
     "output_type": "execute_result"
    }
   ],
   "source": [
    "z1 = tensor * tensor_t\n",
    "z1"
   ]
  },
  {
   "cell_type": "code",
   "execution_count": 57,
   "id": "c973e2f8-d4cf-4c99-8908-ffa0432c20da",
   "metadata": {},
   "outputs": [
    {
     "data": {
      "text/plain": [
       "tensor([[1., 1., 1., 1.],\n",
       "        [1., 1., 1., 1.],\n",
       "        [1., 1., 1., 1.],\n",
       "        [1., 1., 1., 1.]])"
      ]
     },
     "execution_count": 57,
     "metadata": {},
     "output_type": "execute_result"
    }
   ],
   "source": [
    "z2 = tensor.mul(tensor_t)\n",
    "z2"
   ]
  },
  {
   "cell_type": "code",
   "execution_count": 60,
   "id": "35b19683-6084-480f-9117-1b2c81965489",
   "metadata": {},
   "outputs": [
    {
     "data": {
      "text/plain": [
       "16.0"
      ]
     },
     "execution_count": 60,
     "metadata": {},
     "output_type": "execute_result"
    }
   ],
   "source": [
    "agg = tensor.sum()\n",
    "agg_item = agg.item()\n",
    "agg_item"
   ]
  },
  {
   "cell_type": "code",
   "execution_count": 61,
   "id": "ce1ca431-9b6f-495f-9466-5546872bd44c",
   "metadata": {},
   "outputs": [
    {
     "data": {
      "text/plain": [
       "tensor([[6., 6., 6., 6.],\n",
       "        [6., 6., 6., 6.],\n",
       "        [6., 6., 6., 6.],\n",
       "        [6., 6., 6., 6.]])"
      ]
     },
     "execution_count": 61,
     "metadata": {},
     "output_type": "execute_result"
    }
   ],
   "source": [
    "tensor.add_(5)"
   ]
  },
  {
   "cell_type": "code",
   "execution_count": 62,
   "id": "a85e9098-265e-4d51-8f9f-8f47c49dcb2a",
   "metadata": {},
   "outputs": [
    {
     "data": {
      "text/plain": [
       "tensor([[6., 6., 6., 6.],\n",
       "        [6., 6., 6., 6.],\n",
       "        [6., 6., 6., 6.],\n",
       "        [6., 6., 6., 6.]])"
      ]
     },
     "execution_count": 62,
     "metadata": {},
     "output_type": "execute_result"
    }
   ],
   "source": [
    "tensor"
   ]
  },
  {
   "cell_type": "markdown",
   "id": "ca0ee500-4aa6-4a7f-86da-69dc06270e76",
   "metadata": {
    "panel-layout": {
     "height": 44.09375,
     "visible": true,
     "width": 100
    }
   },
   "source": [
    "### 6. Tensors With Numpy"
   ]
  },
  {
   "cell_type": "code",
   "execution_count": 64,
   "id": "96a5d91c-ecdf-4ca6-a1fe-563824a08dd3",
   "metadata": {},
   "outputs": [
    {
     "data": {
      "text/plain": [
       "tensor([1., 1., 1., 1., 1.])"
      ]
     },
     "execution_count": 64,
     "metadata": {},
     "output_type": "execute_result"
    }
   ],
   "source": [
    "t = torch.ones(5)\n",
    "t"
   ]
  },
  {
   "cell_type": "code",
   "execution_count": 66,
   "id": "853c69e7-6704-4ada-bb26-1d7c8f78a296",
   "metadata": {},
   "outputs": [
    {
     "data": {
      "text/plain": [
       "array([1., 1., 1., 1., 1.], dtype=float32)"
      ]
     },
     "execution_count": 66,
     "metadata": {},
     "output_type": "execute_result"
    }
   ],
   "source": [
    "n = t.numpy()\n",
    "n"
   ]
  },
  {
   "cell_type": "code",
   "execution_count": 67,
   "id": "40fc05bf-b434-4cdb-8a3a-4b51f845a9de",
   "metadata": {},
   "outputs": [
    {
     "data": {
      "text/plain": [
       "tensor([5., 5., 5., 5., 5.])"
      ]
     },
     "execution_count": 67,
     "metadata": {},
     "output_type": "execute_result"
    }
   ],
   "source": [
    "t.add_(4)"
   ]
  },
  {
   "cell_type": "code",
   "execution_count": 68,
   "id": "6a22e97a-4ac0-487d-978c-5c5f0443a4d2",
   "metadata": {},
   "outputs": [
    {
     "data": {
      "text/plain": [
       "tensor([5., 5., 5., 5., 5.])"
      ]
     },
     "execution_count": 68,
     "metadata": {},
     "output_type": "execute_result"
    }
   ],
   "source": [
    "t"
   ]
  },
  {
   "cell_type": "code",
   "execution_count": 69,
   "id": "112a6a30-9a63-4e4d-8a05-3a263fd828fd",
   "metadata": {},
   "outputs": [
    {
     "data": {
      "text/plain": [
       "array([5., 5., 5., 5., 5.], dtype=float32)"
      ]
     },
     "execution_count": 69,
     "metadata": {},
     "output_type": "execute_result"
    }
   ],
   "source": [
    "n"
   ]
  },
  {
   "cell_type": "code",
   "execution_count": 70,
   "id": "563b5e7c-f2f3-454b-a1a5-09781d99f025",
   "metadata": {},
   "outputs": [],
   "source": [
    "n = np.ones(5)"
   ]
  },
  {
   "cell_type": "code",
   "execution_count": 71,
   "id": "a4d719e5-dce6-4894-9f78-647d21f00960",
   "metadata": {},
   "outputs": [],
   "source": [
    "t = torch.from_numpy(n)"
   ]
  },
  {
   "cell_type": "code",
   "execution_count": 72,
   "id": "e4e199f0-afcd-477a-bc78-2580eb08a0bd",
   "metadata": {},
   "outputs": [
    {
     "data": {
      "text/plain": [
       "tensor([1., 1., 1., 1., 1.], dtype=torch.float64)"
      ]
     },
     "execution_count": 72,
     "metadata": {},
     "output_type": "execute_result"
    }
   ],
   "source": [
    "t"
   ]
  },
  {
   "cell_type": "code",
   "execution_count": null,
   "id": "b3c042ab-011d-4a19-bb68-b374ad03d030",
   "metadata": {},
   "outputs": [],
   "source": []
  }
 ],
 "metadata": {
  "kernelspec": {
   "display_name": "Python 3 (ipykernel)",
   "language": "python",
   "name": "python3"
  },
  "language_info": {
   "codemirror_mode": {
    "name": "ipython",
    "version": 3
   },
   "file_extension": ".py",
   "mimetype": "text/x-python",
   "name": "python",
   "nbconvert_exporter": "python",
   "pygments_lexer": "ipython3",
   "version": "3.11.5"
  },
  "panel-cell-order": [
   "57825334-1d1c-4b23-9afe-2021b85b272c",
   "f527e69c-9c62-4d44-af84-fbded4a13565",
   "45224cbe-a989-414a-9c8c-39f432a7287f",
   "0dbba9e8-5921-476a-b152-5dc9e6763817",
   "36a3b638-97f9-40fd-a196-25748dabffa4",
   "79689b3d-6117-41ef-9ef1-e3f1b328a10d",
   "0be47f18-1659-4187-9393-96edf1fd3ace",
   "2a142d95-9f94-474d-afc5-03094a67b591",
   "696e28b1-3c0d-4ec7-894e-4ac56cc1dab6",
   "ca0ee500-4aa6-4a7f-86da-69dc06270e76"
  ]
 },
 "nbformat": 4,
 "nbformat_minor": 5
}
