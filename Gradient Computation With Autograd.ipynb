{
 "cells": [
  {
   "cell_type": "markdown",
   "id": "75c016ba-4ec8-4f97-88a7-9a9706041f5b",
   "metadata": {},
   "source": [
    "# <div style=\"text-align:center; font-weight:bold\">Automatic Gradient Computation with Autograd</div>"
   ]
  },
  {
   "cell_type": "markdown",
   "id": "c7ee0caa-104e-4acf-a014-13f821382353",
   "metadata": {},
   "source": [
    "## Backpropagation Basics"
   ]
  },
  {
   "cell_type": "code",
   "execution_count": null,
   "id": "f860d54e-b60f-47e4-8fbc-53ba2162bdc8",
   "metadata": {},
   "outputs": [],
   "source": []
  },
  {
   "cell_type": "markdown",
   "id": "b8c295d2-7346-44db-83c6-76d3caed58fc",
   "metadata": {},
   "source": [
    "## One-Layer Network"
   ]
  },
  {
   "cell_type": "code",
   "execution_count": null,
   "id": "ac518f46-1e0d-49be-bb2a-ed141705e542",
   "metadata": {},
   "outputs": [],
   "source": []
  },
  {
   "cell_type": "markdown",
   "id": "af39df96-8110-4e66-a3b8-8208b0e6e56b",
   "metadata": {},
   "source": [
    "## Gradient Computation"
   ]
  },
  {
   "cell_type": "code",
   "execution_count": null,
   "id": "0d293ca1-f893-4cc3-b8a8-9a850dfc6bdc",
   "metadata": {},
   "outputs": [],
   "source": []
  },
  {
   "cell_type": "markdown",
   "id": "2d9c1118-4fff-45d1-aa58-d0dd293e002f",
   "metadata": {},
   "source": [
    "## Disabling Gratient Tracking"
   ]
  },
  {
   "cell_type": "code",
   "execution_count": null,
   "id": "99324ee1-2b4b-4bb9-ab5c-e6716f158721",
   "metadata": {},
   "outputs": [],
   "source": []
  },
  {
   "cell_type": "markdown",
   "id": "9b9ddfba-595a-4994-b3aa-e8be5ec883c9",
   "metadata": {},
   "source": [
    "## Understanding Computational Graph"
   ]
  },
  {
   "cell_type": "code",
   "execution_count": null,
   "id": "4c84ba68-2e35-44eb-9b05-eb2ba442231c",
   "metadata": {},
   "outputs": [],
   "source": []
  },
  {
   "cell_type": "markdown",
   "id": "659a3f3f-355e-4dd1-a374-ce21422b939f",
   "metadata": {},
   "source": [
    "## Gradient and Jacobian Products"
   ]
  },
  {
   "cell_type": "code",
   "execution_count": null,
   "id": "97f3e793-e843-4b3f-bc59-94df47566310",
   "metadata": {},
   "outputs": [],
   "source": []
  }
 ],
 "metadata": {
  "kernelspec": {
   "display_name": "Python 3 (ipykernel)",
   "language": "python",
   "name": "python3"
  },
  "language_info": {
   "codemirror_mode": {
    "name": "ipython",
    "version": 3
   },
   "file_extension": ".py",
   "mimetype": "text/x-python",
   "name": "python",
   "nbconvert_exporter": "python",
   "pygments_lexer": "ipython3",
   "version": "3.11.5"
  }
 },
 "nbformat": 4,
 "nbformat_minor": 5
}
